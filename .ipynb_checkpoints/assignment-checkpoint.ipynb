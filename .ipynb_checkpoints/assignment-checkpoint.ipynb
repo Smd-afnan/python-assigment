{
 "cells": [
  {
   "cell_type": "code",
   "execution_count": 17,
   "id": "e1118c43-67d1-4712-8baa-d92d5a2987bc",
   "metadata": {},
   "outputs": [],
   "source": [
    "#1.Explain the key features of Python that make it a popular choice for programming.\n",
    "\n",
    "# - Python has a large standard library.\n",
    "# - It is easy to understand and write.\n",
    "# - It is cross-platform.\n",
    "# - It has strong community support."
   ]
  },
  {
   "cell_type": "code",
   "execution_count": 14,
   "id": "293cf224-7972-4b69-bbcd-84def589fc9f",
   "metadata": {},
   "outputs": [],
   "source": [
    "# 2.Describe the role of predefined keywords in Python and provide examples of how they are used in a program.\n",
    "#    ANS.predefined keywords are some of the reserved words which have special \n",
    "#        meaning and purpose in the language. \n",
    "#        some of the predefined keywords are >>if, else, for, while, def, return, True, False, etc.\n",
    "\n",
    "\n",
    "#        examples of how they are used in a program \n"
   ]
  },
  {
   "cell_type": "code",
   "execution_count": 2,
   "id": "57c94ca6-4f4f-474a-8971-6c66ba9c6439",
   "metadata": {},
   "outputs": [
    {
     "name": "stdin",
     "output_type": "stream",
     "text": [
      "whats ur heart rate 84\n"
     ]
    },
    {
     "name": "stdout",
     "output_type": "stream",
     "text": [
      "heart rate is normal\n"
     ]
    }
   ],
   "source": [
    "heart_rate=int(input(\"whats ur heart rate\"))\n",
    "if 60 <= heart_rate <= 100:\n",
    "    print(\"heart rate is normal\")\n",
    "elif heart_rate<60:\n",
    "    print(\"low heart rate or bradycardia\")\n",
    "else:\n",
    "    print(\"higher heart rate or tachycardia\")"
   ]
  },
  {
   "cell_type": "code",
   "execution_count": 10,
   "id": "a512d443-3b48-439c-ad57-be3a90327907",
   "metadata": {},
   "outputs": [
    {
     "name": "stdin",
     "output_type": "stream",
     "text": [
      "What is your heart rate?  84\n"
     ]
    },
    {
     "name": "stdout",
     "output_type": "stream",
     "text": [
      "Heart rate is normal.\n"
     ]
    }
   ],
   "source": [
    "def heart_rate():\n",
    "    heart_rate = int(input(\"What is your heart rate? \"))\n",
    "    if 60 <= heart_rate <= 100:\n",
    "        return \"Heart rate is normal.\"\n",
    "    elif heart_rate < 60:\n",
    "        return \"Low heart rate or bradycardia.\"\n",
    "    else:\n",
    "        return \"Higher heart rate or tachycardia.\"\n",
    "\n",
    "\n",
    "result = heart_rate()\n",
    "print(result)\n"
   ]
  },
  {
   "cell_type": "code",
   "execution_count": null,
   "id": "dbb3c19c-a3e6-451c-bd3b-5f85d8bb71b4",
   "metadata": {},
   "outputs": [],
   "source": [
    " # 3. Compare and contrast mutable and immutable objects in Python with examples.\n",
    "#       Ans. mutuable objects are the one which can be modified and changed \n",
    "#         and the immutable objects are those which cannot be changed "
   ]
  },
  {
   "cell_type": "code",
   "execution_count": 11,
   "id": "78aaff28-b7e1-46d9-98fd-61a9f1d31595",
   "metadata": {},
   "outputs": [],
   "source": [
    "#         comparing the mutuable and immutable objects in python \n",
    "\n",
    "list=[1,2,3,54]"
   ]
  },
  {
   "cell_type": "code",
   "execution_count": 12,
   "id": "02a6511b-fe9a-45bc-9949-5a11b2839a25",
   "metadata": {},
   "outputs": [
    {
     "data": {
      "text/plain": [
       "54"
      ]
     },
     "execution_count": 12,
     "metadata": {},
     "output_type": "execute_result"
    }
   ],
   "source": [
    "list[3]"
   ]
  },
  {
   "cell_type": "code",
   "execution_count": 13,
   "id": "c458c633-f26a-4230-b8e9-6f8e7c3eee6c",
   "metadata": {},
   "outputs": [],
   "source": [
    "list[3]=24"
   ]
  },
  {
   "cell_type": "code",
   "execution_count": 16,
   "id": "017db206-3729-446c-83f1-4b771ad24e80",
   "metadata": {},
   "outputs": [
    {
     "name": "stdout",
     "output_type": "stream",
     "text": [
      "modified list: [1, 2, 3, 24]\n"
     ]
    }
   ],
   "source": [
    "print(\"modified list:\",list)"
   ]
  },
  {
   "cell_type": "code",
   "execution_count": 17,
   "id": "375621e3-cd57-4171-a38f-050eb35e3e3f",
   "metadata": {},
   "outputs": [],
   "source": [
    "string =\"medicine\""
   ]
  },
  {
   "cell_type": "code",
   "execution_count": 20,
   "id": "6820f645-bf3c-4fe7-919f-ee7048666972",
   "metadata": {},
   "outputs": [
    {
     "data": {
      "text/plain": [
       "'m'"
      ]
     },
     "execution_count": 20,
     "metadata": {},
     "output_type": "execute_result"
    }
   ],
   "source": [
    "string[0]"
   ]
  },
  {
   "cell_type": "code",
   "execution_count": 23,
   "id": "52f12438-345f-4fcf-ab0f-9346c54b649e",
   "metadata": {},
   "outputs": [
    {
     "data": {
      "text/plain": [
       "'fedicine'"
      ]
     },
     "execution_count": 23,
     "metadata": {},
     "output_type": "execute_result"
    }
   ],
   "source": [
    "string.replace('m','f')"
   ]
  },
  {
   "cell_type": "code",
   "execution_count": 24,
   "id": "0333fddb-8f87-4f23-9751-dc90c13b3db9",
   "metadata": {},
   "outputs": [],
   "source": [
    " # 4.Discuss the different types of operators in Python and provide examples of how they are used.\n",
    "#     Ans. there are 7 types of operators in python \n",
    "#     arithmetic operators>>comparison operators>>logical operators>>bitwise operators>>assignment operators>>\n",
    "#     membership and identity operators.\n",
    "    \n",
    "    \n",
    "#     arithmetic operators =[+-*/%**]\n",
    "#     comparison operators = [(==),(!=),(>),(<),(<=), (>=)]\n",
    "#     logical operators = [(logical and), (logical or), (logical not)]\n",
    "#     assignment operators = [(=,+=,-=,*=,/=)]"
   ]
  },
  {
   "cell_type": "code",
   "execution_count": 25,
   "id": "2c2ea20f-7de1-42f1-8700-e4d60ac771a2",
   "metadata": {},
   "outputs": [],
   "source": [
    "a=20\n",
    "b=5"
   ]
  },
  {
   "cell_type": "code",
   "execution_count": 28,
   "id": "4762c7bd-cabe-4868-a4e4-8486b5b61739",
   "metadata": {},
   "outputs": [
    {
     "data": {
      "text/plain": [
       "100"
      ]
     },
     "execution_count": 28,
     "metadata": {},
     "output_type": "execute_result"
    }
   ],
   "source": [
    "a*b"
   ]
  },
  {
   "cell_type": "code",
   "execution_count": 29,
   "id": "c07d83a6-0ac5-4b8c-9340-188a83a26f4f",
   "metadata": {},
   "outputs": [
    {
     "data": {
      "text/plain": [
       "25"
      ]
     },
     "execution_count": 29,
     "metadata": {},
     "output_type": "execute_result"
    }
   ],
   "source": [
    "a+b"
   ]
  },
  {
   "cell_type": "code",
   "execution_count": 30,
   "id": "e2804b40-75a2-4595-8d86-2fe358d96ae1",
   "metadata": {},
   "outputs": [
    {
     "data": {
      "text/plain": [
       "4.0"
      ]
     },
     "execution_count": 30,
     "metadata": {},
     "output_type": "execute_result"
    }
   ],
   "source": [
    "a/b"
   ]
  },
  {
   "cell_type": "code",
   "execution_count": 31,
   "id": "006b6296-dcc2-4a5c-a61c-34082c3612ab",
   "metadata": {},
   "outputs": [
    {
     "data": {
      "text/plain": [
       "True"
      ]
     },
     "execution_count": 31,
     "metadata": {},
     "output_type": "execute_result"
    }
   ],
   "source": [
    "# comparasion operators\n",
    "a!=b"
   ]
  },
  {
   "cell_type": "code",
   "execution_count": 32,
   "id": "7e89d152-e169-4216-a598-c56cfd421d92",
   "metadata": {},
   "outputs": [
    {
     "data": {
      "text/plain": [
       "False"
      ]
     },
     "execution_count": 32,
     "metadata": {},
     "output_type": "execute_result"
    }
   ],
   "source": [
    "a==b"
   ]
  },
  {
   "cell_type": "code",
   "execution_count": 33,
   "id": "edfcf196-fbf8-4f96-b53a-6045ffcaa46c",
   "metadata": {},
   "outputs": [
    {
     "name": "stdout",
     "output_type": "stream",
     "text": [
      "True\n"
     ]
    }
   ],
   "source": [
    "# logical operators\n",
    "print((5 > 3) and (8 > 5))  "
   ]
  },
  {
   "cell_type": "code",
   "execution_count": 34,
   "id": "1bc6322a-c995-48df-97c1-73d0eae385e7",
   "metadata": {},
   "outputs": [
    {
     "name": "stdout",
     "output_type": "stream",
     "text": [
      "True\n"
     ]
    }
   ],
   "source": [
    "print((5 > 3) or (2 > 5))"
   ]
  },
  {
   "cell_type": "code",
   "execution_count": 35,
   "id": "5eb4d292-17a3-4a5b-bf31-722dfcce5dc7",
   "metadata": {},
   "outputs": [
    {
     "name": "stdout",
     "output_type": "stream",
     "text": [
      "False\n"
     ]
    }
   ],
   "source": [
    "print(not (5 > 3))"
   ]
  },
  {
   "cell_type": "code",
   "execution_count": 39,
   "id": "bf43797e-4a51-48c3-bf27-724f07c24e5c",
   "metadata": {},
   "outputs": [],
   "source": [
    "x=6\n",
    "x**=3"
   ]
  },
  {
   "cell_type": "code",
   "execution_count": 40,
   "id": "fc8fefa8-88a7-4840-af8c-4a77225c6431",
   "metadata": {},
   "outputs": [
    {
     "data": {
      "text/plain": [
       "216"
      ]
     },
     "execution_count": 40,
     "metadata": {},
     "output_type": "execute_result"
    }
   ],
   "source": [
    "x"
   ]
  },
  {
   "cell_type": "code",
   "execution_count": 1,
   "id": "9fd52575-3ebe-4edd-aeae-dca7c5585c20",
   "metadata": {},
   "outputs": [],
   "source": [
    "# 5. Explain the concept of type casting in Python with examples.\n",
    "#        Ans. Type casting in Python refers to converting one data type to another.\n",
    "#     there are 2 types of tyecasting \n",
    "#     1.implicit typecasting (automatic conversion)\n",
    "#     2.explicit typecasting (manual conversion)"
   ]
  },
  {
   "cell_type": "code",
   "execution_count": 2,
   "id": "6daf7d82-1867-4df9-b7dd-ef6a3626d45e",
   "metadata": {},
   "outputs": [],
   "source": [
    "# implicit type casting\n",
    "x = 10        \n",
    "y = 3.5    "
   ]
  },
  {
   "cell_type": "code",
   "execution_count": 4,
   "id": "597a8ccc-be88-44c0-b89c-c711c700835f",
   "metadata": {},
   "outputs": [
    {
     "name": "stdout",
     "output_type": "stream",
     "text": [
      "13.5\n"
     ]
    }
   ],
   "source": [
    "result=x+y\n",
    "print(result)"
   ]
  },
  {
   "cell_type": "code",
   "execution_count": 5,
   "id": "cad049e8-61be-41fc-8bbc-31d697c4b15f",
   "metadata": {},
   "outputs": [
    {
     "name": "stdout",
     "output_type": "stream",
     "text": [
      "<class 'float'>\n"
     ]
    }
   ],
   "source": [
    "print(type(result))"
   ]
  },
  {
   "cell_type": "code",
   "execution_count": 6,
   "id": "577c3932-4926-48b9-ba77-61d70f9ba0bd",
   "metadata": {},
   "outputs": [
    {
     "data": {
      "text/plain": [
       "10"
      ]
     },
     "execution_count": 6,
     "metadata": {},
     "output_type": "execute_result"
    }
   ],
   "source": [
    "# explicit typecasting - manually converting the data object\n",
    "x"
   ]
  },
  {
   "cell_type": "code",
   "execution_count": 7,
   "id": "617546d8-d9ce-423c-a277-76f6ccef522f",
   "metadata": {},
   "outputs": [
    {
     "data": {
      "text/plain": [
       "10"
      ]
     },
     "execution_count": 7,
     "metadata": {},
     "output_type": "execute_result"
    }
   ],
   "source": [
    "int(x)"
   ]
  },
  {
   "cell_type": "code",
   "execution_count": 8,
   "id": "bd5bdf9b-9cb1-499c-b3b3-f71b7208dc55",
   "metadata": {},
   "outputs": [
    {
     "data": {
      "text/plain": [
       "10.0"
      ]
     },
     "execution_count": 8,
     "metadata": {},
     "output_type": "execute_result"
    }
   ],
   "source": [
    "float(x)"
   ]
  },
  {
   "cell_type": "code",
   "execution_count": 9,
   "id": "441733b6-f3fa-49f4-bd84-5bc0db9295b3",
   "metadata": {},
   "outputs": [
    {
     "data": {
      "text/plain": [
       "'10'"
      ]
     },
     "execution_count": 9,
     "metadata": {},
     "output_type": "execute_result"
    }
   ],
   "source": [
    "str(x)"
   ]
  },
  {
   "cell_type": "code",
   "execution_count": 10,
   "id": "89bd7d3c-dc7e-4561-a860-073ab330d0a0",
   "metadata": {},
   "outputs": [
    {
     "data": {
      "text/plain": [
       "True"
      ]
     },
     "execution_count": 10,
     "metadata": {},
     "output_type": "execute_result"
    }
   ],
   "source": [
    "bool(x)"
   ]
  },
  {
   "cell_type": "code",
   "execution_count": 11,
   "id": "f2c81080-6ee0-4cff-803c-a694955d2064",
   "metadata": {},
   "outputs": [],
   "source": [
    "#  6. How do conditional statements work in Python? Illustrate with examples. \n",
    "#          ans. Conditional statements in Python allow for decision-making in the code.\n",
    "#                The most common conditional statements are `if`, `elif`, and `else`."
   ]
  },
  {
   "cell_type": "code",
   "execution_count": 12,
   "id": "c00f22a1-6e78-475e-99eb-9b7deee0a915",
   "metadata": {},
   "outputs": [
    {
     "name": "stdin",
     "output_type": "stream",
     "text": [
      "whats ur heart rate 82\n"
     ]
    },
    {
     "name": "stdout",
     "output_type": "stream",
     "text": [
      "heart rate is normal\n"
     ]
    }
   ],
   "source": [
    "# example:\n",
    "heart_rate=int(input(\"whats ur heart rate\"))\n",
    "if 60 <= heart_rate <= 100:\n",
    "    print(\"heart rate is normal\")\n",
    "elif heart_rate<60:\n",
    "    print(\"low heart rate or bradycardia\")\n",
    "else:\n",
    "    print(\"higher heart rate or tachycardia\")"
   ]
  },
  {
   "cell_type": "code",
   "execution_count": 13,
   "id": "edbb676d-ea1f-462a-81e0-f3dc3d3e9cc6",
   "metadata": {},
   "outputs": [],
   "source": [
    "# # 7. Describe the different types of loops in Python and their use cases with examples.\n",
    "# python has two main loops \n",
    "# for loop and while loop\n",
    "\n",
    "# for loops Used to iterate over a sequence (like a list, tuple, or string) or other iterable objects."
   ]
  },
  {
   "cell_type": "code",
   "execution_count": 14,
   "id": "19022952-9bdc-4bf0-97ca-9f42b661778e",
   "metadata": {},
   "outputs": [
    {
     "name": "stdout",
     "output_type": "stream",
     "text": [
      "0\n",
      "1\n",
      "2\n",
      "3\n",
      "4\n"
     ]
    }
   ],
   "source": [
    "#   Example:\n",
    "for i in range(5): \n",
    "    print(i)"
   ]
  },
  {
   "cell_type": "code",
   "execution_count": 18,
   "id": "911fb3d4-e1d5-4fa3-90f1-9ea0d1067036",
   "metadata": {},
   "outputs": [],
   "source": [
    "# while loops are Used to repeatedly execute a block of code as long as the condition is true.\n"
   ]
  },
  {
   "cell_type": "code",
   "execution_count": 20,
   "id": "42c1162f-0026-49f8-8db6-039d30718192",
   "metadata": {},
   "outputs": [
    {
     "ename": "NameError",
     "evalue": "name 'count' is not defined",
     "output_type": "error",
     "traceback": [
      "\u001b[0;31m---------------------------------------------------------------------------\u001b[0m",
      "\u001b[0;31mNameError\u001b[0m                                 Traceback (most recent call last)",
      "Cell \u001b[0;32mIn[20], line 1\u001b[0m\n\u001b[0;32m----> 1\u001b[0m \u001b[38;5;28;01mwhile\u001b[39;00m \u001b[43mcount\u001b[49m\u001b[38;5;241m<\u001b[39m\u001b[38;5;241m5\u001b[39m:  \n\u001b[1;32m      2\u001b[0m     \u001b[38;5;28mprint\u001b[39m(count)\n\u001b[1;32m      3\u001b[0m     count \u001b[38;5;241m+\u001b[39m\u001b[38;5;241m=\u001b[39m \u001b[38;5;241m1\u001b[39m\n",
      "\u001b[0;31mNameError\u001b[0m: name 'count' is not defined"
     ]
    }
   ],
   "source": [
    "while count<5:  \n",
    "    print(count)\n",
    "    count += 1"
   ]
  },
  {
   "cell_type": "code",
   "execution_count": null,
   "id": "b3df78e7-6b1e-4934-98d6-9de5c86e2dc0",
   "metadata": {},
   "outputs": [],
   "source": []
  }
 ],
 "metadata": {
  "kernelspec": {
   "display_name": "Python 3 (ipykernel)",
   "language": "python",
   "name": "python3"
  },
  "language_info": {
   "codemirror_mode": {
    "name": "ipython",
    "version": 3
   },
   "file_extension": ".py",
   "mimetype": "text/x-python",
   "name": "python",
   "nbconvert_exporter": "python",
   "pygments_lexer": "ipython3",
   "version": "3.10.8"
  }
 },
 "nbformat": 4,
 "nbformat_minor": 5
}
